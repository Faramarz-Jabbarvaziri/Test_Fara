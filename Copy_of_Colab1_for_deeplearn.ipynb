{
  "nbformat": 4,
  "nbformat_minor": 0,
  "metadata": {
    "colab": {
      "name": "Copy of Colab1-for-deeplearn.ipynb",
      "provenance": [],
      "toc_visible": true,
      "include_colab_link": true
    },
    "kernelspec": {
      "name": "python3",
      "display_name": "Python 3"
    }
  },
  "cells": [
    {
      "cell_type": "markdown",
      "metadata": {
        "id": "view-in-github",
        "colab_type": "text"
      },
      "source": [
        "<a href=\"https://colab.research.google.com/github/Faramarz-Jabbarvaziri/Test_Fara/blob/master/Copy_of_Colab1_for_deeplearn.ipynb\" target=\"_parent\"><img src=\"https://colab.research.google.com/assets/colab-badge.svg\" alt=\"Open In Colab\"/></a>"
      ]
    },
    {
      "cell_type": "markdown",
      "metadata": {
        "id": "ZIAkIlfmCe1B",
        "colab_type": "text"
      },
      "source": [
        "# The Hello World of Deep Learning with Neural Networks"
      ]
    },
    {
      "cell_type": "markdown",
      "metadata": {
        "id": "fA93WUy1zzWf",
        "colab_type": "text"
      },
      "source": [
        "Like every first app you should start with something super simple that shows the overall scaffolding for how your code works. \n",
        "\n",
        "In the case of creating neural networks, the sample I like to use is one where it learns the relationship between two numbers. So, for example, if you were writing code for a function like this, you already know the 'rules' — \n",
        "\n",
        "\n",
        "```\n",
        "float hw_function(float x){\n",
        "    float y = (2 * x) - 1;\n",
        "    return y;\n",
        "}\n",
        "```\n",
        "\n",
        "So how would you train a neural network to do the equivalent task? Using data! By feeding it with a set of Xs, and a set of Ys, it should be able to figure out the relationship between them. \n",
        "\n",
        "This is obviously a very different paradigm than what you might be used to, so let's step through it piece by piece.\n"
      ]
    },
    {
      "cell_type": "markdown",
      "metadata": {
        "id": "DzbtdRcZDO9B",
        "colab_type": "text"
      },
      "source": [
        "## Imports\n",
        "\n",
        "Let's start with our imports. Here we are importing TensorFlow and calling it tf for ease of use.\n",
        "\n",
        "We then import a library called numpy, which helps us to represent our data as lists easily and quickly.\n",
        "\n",
        "The framework for defining a neural network as a set of Sequential layers is called keras, so we import that too."
      ]
    },
    {
      "cell_type": "code",
      "metadata": {
        "id": "X9uIpOS2zx7k",
        "colab_type": "code",
        "colab": {}
      },
      "source": [
        "import tensorflow as tf\n",
        "import numpy as np\n",
        "from tensorflow import keras"
      ],
      "execution_count": 0,
      "outputs": []
    },
    {
      "cell_type": "markdown",
      "metadata": {
        "id": "wwJGmDrQ0EoB",
        "colab_type": "text"
      },
      "source": [
        "## Define and Compile the Neural Network\n",
        "\n",
        "Next we will create the simplest possible neural network. It has 1 layer, and that layer has 1 neuron, and the input shape to it is just 1 value."
      ]
    },
    {
      "cell_type": "code",
      "metadata": {
        "id": "kQFAr_xo0M4T",
        "colab_type": "code",
        "colab": {}
      },
      "source": [
        "# model = tf.keras.Sequential([keras.layers.Dense(units=1, input_shape=[1])])\n",
        "# model = tf.keras.models.Sequential([tf.keras.layers.Dense(units=1, input_shape=[1]),\n",
        "#                                     tf.keras.layers.Dense(units=100, activation=tf.nn.relu), \n",
        "#                                     tf.keras.layers.Dense(units=1, activation=tf.nn.softmax)])\n",
        "\n",
        "\n",
        "model = tf.keras.models.Sequential([tf.keras.layers.Dense(12, input_dim=1, activation='relu'),\n",
        "                                    tf.keras.layers.Dense(8, activation='relu'), \n",
        "                                    tf.keras.layers.Dense(1, activation='sigmoid')])\n",
        "\n",
        "\n",
        "\n",
        "# model = tf.keras.Sequential()\n",
        "# model.add(Dense(12, input_dim=1, activation='relu'))\n",
        "# model.add(Dense(8, activation='relu'))\n",
        "# model.add(Dense(1, activation='sigmoid'))\n"
      ],
      "execution_count": 0,
      "outputs": []
    },
    {
      "cell_type": "markdown",
      "metadata": {
        "id": "KhjZjZ-c0Ok9",
        "colab_type": "text"
      },
      "source": [
        "Now we compile our Neural Network. When we do so, we have to specify 2 functions, a loss and an optimizer.\n",
        "\n",
        "If you've seen lots of math for machine learning, here's where it's usually used, but in this case it's nicely encapsulated in functions for you. But what happens here — let's explain...\n",
        "\n",
        "We know that in our function, the relationship between the numbers is y=2x-1. \n",
        "\n",
        "When the computer is trying to 'learn' that, it makes a guess...maybe y=10x+10. The LOSS function measures the guessed answers against the known correct answers and measures how well or how badly it did.\n",
        "\n",
        "It then uses the OPTIMIZER function to make another guess. Based on how the loss function went, it will try to minimize the loss. At that point maybe it will come up with somehting like y=5x+5, which, while still pretty bad, is closer to the correct result (i.e. the loss is lower)\n",
        "\n",
        "It will repeat this for the number of EPOCHS which you will see shortly. But first, here's how we tell it to use 'MEAN SQUARED ERROR' for the loss and 'STOCHASTIC GRADIENT DESCENT' for the optimizer. You don't need to understand the math for these yet, but you can see that they work! :)\n",
        "\n",
        "Over time you will learn the different and appropriate loss and optimizer functions for different scenarios. \n"
      ]
    },
    {
      "cell_type": "code",
      "metadata": {
        "id": "m8YQN1H41L-Y",
        "colab_type": "code",
        "colab": {}
      },
      "source": [
        "# def MyObj(x_star,x):\n",
        "#   loss = abs(x_star-x)\n",
        "#   #loss = - x_star**2 - 0*x**2 ;\n",
        "#   return loss\n",
        "\n",
        "\n",
        "\n",
        "def MyObj(x_star,xs):\n",
        "  loss=pow(x_star -10,2) - 0*xs;\n",
        "  return loss\n",
        "\n",
        "\n",
        "\n",
        "\n",
        "model.compile(optimizer='sgd', loss=MyObj)"
      ],
      "execution_count": 0,
      "outputs": []
    },
    {
      "cell_type": "markdown",
      "metadata": {
        "id": "5QyOUhFw1OUX",
        "colab_type": "text"
      },
      "source": [
        "## Providing the Data\n",
        "\n",
        "Next up we'll feed in some data. In this case we are taking 6 xs and 6ys. You can see that the relationship between these is that y=2x-1, so where x = -1, y=-3 etc. etc. \n",
        "\n",
        "A python library called 'Numpy' provides lots of array type data structures that are a defacto standard way of doing it. We declare that we want to use these by specifying the values as an np.array[]"
      ]
    },
    {
      "cell_type": "code",
      "metadata": {
        "id": "4Dxk4q-jzEy4",
        "colab_type": "code",
        "colab": {}
      },
      "source": [
        "xs = np.array([1], dtype=float)\n",
        "# ys = np.array([-3.0, -1.0, 1.0, 3.0, 5.0, 7.0], dtype=float)"
      ],
      "execution_count": 0,
      "outputs": []
    },
    {
      "cell_type": "markdown",
      "metadata": {
        "id": "n_YcWRElnM_b",
        "colab_type": "text"
      },
      "source": [
        "# Training the Neural Network"
      ]
    },
    {
      "cell_type": "markdown",
      "metadata": {
        "id": "c-Jk4dG91dvD",
        "colab_type": "text"
      },
      "source": [
        "The process of training the neural network, where it 'learns' the relationship between the Xs and Ys is in the **model.fit**  call. This is where it will go through the loop we spoke about above, making a guess, measuring how good or bad it is (aka the loss), using the opimizer to make another guess etc. It will do it for the number of epochs you specify. When you run this code, you'll see the loss on the right hand side."
      ]
    },
    {
      "cell_type": "code",
      "metadata": {
        "id": "lpRrl7WK10Pq",
        "colab_type": "code",
        "outputId": "ad5c339b-16fb-4cd2-f9ae-03edf4284d8a",
        "colab": {
          "base_uri": "https://localhost:8080/",
          "height": 1000
        }
      },
      "source": [
        "# model.fit(xs,ys,epochs=100)\n",
        "model.fit(xs,epochs=100)\n"
      ],
      "execution_count": 0,
      "outputs": [
        {
          "output_type": "stream",
          "text": [
            "Train on 1 samples\n",
            "Epoch 1/100\n",
            "1/1 [==============================] - 0s 121ms/sample - loss: 81.0000\n",
            "Epoch 2/100\n",
            "1/1 [==============================] - 0s 2ms/sample - loss: 81.0000\n",
            "Epoch 3/100\n",
            "1/1 [==============================] - 0s 2ms/sample - loss: 81.0000\n",
            "Epoch 4/100\n",
            "1/1 [==============================] - 0s 2ms/sample - loss: 81.0000\n",
            "Epoch 5/100\n",
            "1/1 [==============================] - 0s 1ms/sample - loss: 81.0000\n",
            "Epoch 6/100\n",
            "1/1 [==============================] - 0s 2ms/sample - loss: 81.0000\n",
            "Epoch 7/100\n",
            "1/1 [==============================] - 0s 1ms/sample - loss: 81.0000\n",
            "Epoch 8/100\n",
            "1/1 [==============================] - 0s 1ms/sample - loss: 81.0000\n",
            "Epoch 9/100\n",
            "1/1 [==============================] - 0s 2ms/sample - loss: 81.0000\n",
            "Epoch 10/100\n",
            "1/1 [==============================] - 0s 1ms/sample - loss: 81.0000\n",
            "Epoch 11/100\n",
            "1/1 [==============================] - 0s 1ms/sample - loss: 81.0000\n",
            "Epoch 12/100\n",
            "1/1 [==============================] - 0s 1ms/sample - loss: 81.0000\n",
            "Epoch 13/100\n",
            "1/1 [==============================] - 0s 1ms/sample - loss: 81.0000\n",
            "Epoch 14/100\n",
            "1/1 [==============================] - 0s 1ms/sample - loss: 81.0000\n",
            "Epoch 15/100\n",
            "1/1 [==============================] - 0s 2ms/sample - loss: 81.0000\n",
            "Epoch 16/100\n",
            "1/1 [==============================] - 0s 2ms/sample - loss: 81.0000\n",
            "Epoch 17/100\n",
            "1/1 [==============================] - 0s 1ms/sample - loss: 81.0000\n",
            "Epoch 18/100\n",
            "1/1 [==============================] - 0s 1ms/sample - loss: 81.0000\n",
            "Epoch 19/100\n",
            "1/1 [==============================] - 0s 1ms/sample - loss: 81.0000\n",
            "Epoch 20/100\n",
            "1/1 [==============================] - 0s 1ms/sample - loss: 81.0000\n",
            "Epoch 21/100\n",
            "1/1 [==============================] - 0s 1ms/sample - loss: 81.0000\n",
            "Epoch 22/100\n",
            "1/1 [==============================] - 0s 1ms/sample - loss: 81.0000\n",
            "Epoch 23/100\n",
            "1/1 [==============================] - 0s 1ms/sample - loss: 81.0000\n",
            "Epoch 24/100\n",
            "1/1 [==============================] - 0s 1ms/sample - loss: 81.0000\n",
            "Epoch 25/100\n",
            "1/1 [==============================] - 0s 1ms/sample - loss: 81.0000\n",
            "Epoch 26/100\n",
            "1/1 [==============================] - 0s 2ms/sample - loss: 81.0000\n",
            "Epoch 27/100\n",
            "1/1 [==============================] - 0s 1ms/sample - loss: 81.0000\n",
            "Epoch 28/100\n",
            "1/1 [==============================] - 0s 2ms/sample - loss: 81.0000\n",
            "Epoch 29/100\n",
            "1/1 [==============================] - 0s 1ms/sample - loss: 81.0000\n",
            "Epoch 30/100\n",
            "1/1 [==============================] - 0s 2ms/sample - loss: 81.0000\n",
            "Epoch 31/100\n",
            "1/1 [==============================] - 0s 1ms/sample - loss: 81.0000\n",
            "Epoch 32/100\n",
            "1/1 [==============================] - 0s 1ms/sample - loss: 81.0000\n",
            "Epoch 33/100\n",
            "1/1 [==============================] - 0s 2ms/sample - loss: 81.0000\n",
            "Epoch 34/100\n",
            "1/1 [==============================] - 0s 2ms/sample - loss: 81.0000\n",
            "Epoch 35/100\n",
            "1/1 [==============================] - 0s 1ms/sample - loss: 81.0000\n",
            "Epoch 36/100\n",
            "1/1 [==============================] - 0s 2ms/sample - loss: 81.0000\n",
            "Epoch 37/100\n",
            "1/1 [==============================] - 0s 1ms/sample - loss: 81.0000\n",
            "Epoch 38/100\n",
            "1/1 [==============================] - 0s 1ms/sample - loss: 81.0000\n",
            "Epoch 39/100\n",
            "1/1 [==============================] - 0s 1ms/sample - loss: 81.0000\n",
            "Epoch 40/100\n",
            "1/1 [==============================] - 0s 1ms/sample - loss: 81.0000\n",
            "Epoch 41/100\n",
            "1/1 [==============================] - 0s 1ms/sample - loss: 81.0000\n",
            "Epoch 42/100\n",
            "1/1 [==============================] - 0s 2ms/sample - loss: 81.0000\n",
            "Epoch 43/100\n",
            "1/1 [==============================] - 0s 1ms/sample - loss: 81.0000\n",
            "Epoch 44/100\n",
            "1/1 [==============================] - 0s 1ms/sample - loss: 81.0000\n",
            "Epoch 45/100\n",
            "1/1 [==============================] - 0s 1ms/sample - loss: 81.0000\n",
            "Epoch 46/100\n",
            "1/1 [==============================] - 0s 1ms/sample - loss: 81.0000\n",
            "Epoch 47/100\n",
            "1/1 [==============================] - 0s 1ms/sample - loss: 81.0000\n",
            "Epoch 48/100\n",
            "1/1 [==============================] - 0s 2ms/sample - loss: 81.0000\n",
            "Epoch 49/100\n",
            "1/1 [==============================] - 0s 2ms/sample - loss: 81.0000\n",
            "Epoch 50/100\n",
            "1/1 [==============================] - 0s 2ms/sample - loss: 81.0000\n",
            "Epoch 51/100\n",
            "1/1 [==============================] - 0s 2ms/sample - loss: 81.0000\n",
            "Epoch 52/100\n",
            "1/1 [==============================] - 0s 2ms/sample - loss: 81.0000\n",
            "Epoch 53/100\n",
            "1/1 [==============================] - 0s 2ms/sample - loss: 81.0000\n",
            "Epoch 54/100\n",
            "1/1 [==============================] - 0s 1ms/sample - loss: 81.0000\n",
            "Epoch 55/100\n",
            "1/1 [==============================] - 0s 2ms/sample - loss: 81.0000\n",
            "Epoch 56/100\n",
            "1/1 [==============================] - 0s 2ms/sample - loss: 81.0000\n",
            "Epoch 57/100\n",
            "1/1 [==============================] - 0s 2ms/sample - loss: 81.0000\n",
            "Epoch 58/100\n",
            "1/1 [==============================] - 0s 2ms/sample - loss: 81.0000\n",
            "Epoch 59/100\n",
            "1/1 [==============================] - 0s 1ms/sample - loss: 81.0000\n",
            "Epoch 60/100\n",
            "1/1 [==============================] - 0s 2ms/sample - loss: 81.0000\n",
            "Epoch 61/100\n",
            "1/1 [==============================] - 0s 2ms/sample - loss: 81.0000\n",
            "Epoch 62/100\n",
            "1/1 [==============================] - 0s 1ms/sample - loss: 81.0000\n",
            "Epoch 63/100\n",
            "1/1 [==============================] - 0s 1ms/sample - loss: 81.0000\n",
            "Epoch 64/100\n",
            "1/1 [==============================] - 0s 2ms/sample - loss: 81.0000\n",
            "Epoch 65/100\n",
            "1/1 [==============================] - 0s 1ms/sample - loss: 81.0000\n",
            "Epoch 66/100\n",
            "1/1 [==============================] - 0s 2ms/sample - loss: 81.0000\n",
            "Epoch 67/100\n",
            "1/1 [==============================] - 0s 1ms/sample - loss: 81.0000\n",
            "Epoch 68/100\n",
            "1/1 [==============================] - 0s 1ms/sample - loss: 81.0000\n",
            "Epoch 69/100\n",
            "1/1 [==============================] - 0s 2ms/sample - loss: 81.0000\n",
            "Epoch 70/100\n",
            "1/1 [==============================] - 0s 2ms/sample - loss: 81.0000\n",
            "Epoch 71/100\n",
            "1/1 [==============================] - 0s 2ms/sample - loss: 81.0000\n",
            "Epoch 72/100\n",
            "1/1 [==============================] - 0s 2ms/sample - loss: 81.0000\n",
            "Epoch 73/100\n",
            "1/1 [==============================] - 0s 1ms/sample - loss: 81.0000\n",
            "Epoch 74/100\n",
            "1/1 [==============================] - 0s 1ms/sample - loss: 81.0000\n",
            "Epoch 75/100\n",
            "1/1 [==============================] - 0s 1ms/sample - loss: 81.0000\n",
            "Epoch 76/100\n",
            "1/1 [==============================] - 0s 2ms/sample - loss: 81.0000\n",
            "Epoch 77/100\n",
            "1/1 [==============================] - 0s 2ms/sample - loss: 81.0000\n",
            "Epoch 78/100\n",
            "1/1 [==============================] - 0s 2ms/sample - loss: 81.0000\n",
            "Epoch 79/100\n",
            "1/1 [==============================] - 0s 2ms/sample - loss: 81.0000\n",
            "Epoch 80/100\n",
            "1/1 [==============================] - 0s 1ms/sample - loss: 81.0000\n",
            "Epoch 81/100\n",
            "1/1 [==============================] - 0s 2ms/sample - loss: 81.0000\n",
            "Epoch 82/100\n",
            "1/1 [==============================] - 0s 2ms/sample - loss: 81.0000\n",
            "Epoch 83/100\n",
            "1/1 [==============================] - 0s 2ms/sample - loss: 81.0000\n",
            "Epoch 84/100\n",
            "1/1 [==============================] - 0s 1ms/sample - loss: 81.0000\n",
            "Epoch 85/100\n",
            "1/1 [==============================] - 0s 2ms/sample - loss: 81.0000\n",
            "Epoch 86/100\n",
            "1/1 [==============================] - 0s 2ms/sample - loss: 81.0000\n",
            "Epoch 87/100\n",
            "1/1 [==============================] - 0s 2ms/sample - loss: 81.0000\n",
            "Epoch 88/100\n",
            "1/1 [==============================] - 0s 1ms/sample - loss: 81.0000\n",
            "Epoch 89/100\n",
            "1/1 [==============================] - 0s 1ms/sample - loss: 81.0000\n",
            "Epoch 90/100\n",
            "1/1 [==============================] - 0s 1ms/sample - loss: 81.0000\n",
            "Epoch 91/100\n",
            "1/1 [==============================] - 0s 1ms/sample - loss: 81.0000\n",
            "Epoch 92/100\n",
            "1/1 [==============================] - 0s 2ms/sample - loss: 81.0000\n",
            "Epoch 93/100\n",
            "1/1 [==============================] - 0s 2ms/sample - loss: 81.0000\n",
            "Epoch 94/100\n",
            "1/1 [==============================] - 0s 2ms/sample - loss: 81.0000\n",
            "Epoch 95/100\n",
            "1/1 [==============================] - 0s 2ms/sample - loss: 81.0000\n",
            "Epoch 96/100\n",
            "1/1 [==============================] - 0s 2ms/sample - loss: 81.0000\n",
            "Epoch 97/100\n",
            "1/1 [==============================] - 0s 2ms/sample - loss: 81.0000\n",
            "Epoch 98/100\n",
            "1/1 [==============================] - 0s 2ms/sample - loss: 81.0000\n",
            "Epoch 99/100\n",
            "1/1 [==============================] - 0s 2ms/sample - loss: 81.0000\n",
            "Epoch 100/100\n",
            "1/1 [==============================] - 0s 2ms/sample - loss: 81.0000\n"
          ],
          "name": "stdout"
        },
        {
          "output_type": "execute_result",
          "data": {
            "text/plain": [
              "<tensorflow.python.keras.callbacks.History at 0x7f825b0de7b8>"
            ]
          },
          "metadata": {
            "tags": []
          },
          "execution_count": 41
        }
      ]
    },
    {
      "cell_type": "markdown",
      "metadata": {
        "id": "kaFIr71H2OZ-",
        "colab_type": "text"
      },
      "source": [
        "Ok, now you have a model that has been trained to learn the relationshop between X and Y. You can use the **model.predict** method to have it figure out the Y for a previously unknown X. So, for example, if X = 10, what do you think Y will be? Take a guess before you run this code:"
      ]
    },
    {
      "cell_type": "code",
      "metadata": {
        "id": "oxNzL4lS2Gui",
        "colab_type": "code",
        "outputId": "d9c5e969-f193-46b4-b27b-5e5cb19fb947",
        "colab": {
          "base_uri": "https://localhost:8080/",
          "height": 34
        }
      },
      "source": [
        "print(model.predict([10]))"
      ],
      "execution_count": 0,
      "outputs": [
        {
          "output_type": "stream",
          "text": [
            "[[0.2061185]]\n"
          ],
          "name": "stdout"
        }
      ]
    },
    {
      "cell_type": "markdown",
      "metadata": {
        "id": "btF2CSFH2iEX",
        "colab_type": "text"
      },
      "source": [
        "You might have thought 19, right? But it ended up being a little under. Why do you think that is? \n",
        "\n",
        "Remember that neural networks deal with probabilities, so given the data that we fed the NN with, it calculated that there is a very high probability that the relationship between X and Y is Y=2X-1, but with only 6 data points we can't know for sure. As a result, the result for 10 is very close to 19, but not necessarily 19. \n",
        "\n",
        "As you work with neural networks, you'll see this pattern recurring. You will almost always deal with probabilities, not certainties, and will do a little bit of coding to figure out what the result is based on the probabilities, particularly when it comes to classification.\n"
      ]
    }
  ]
}